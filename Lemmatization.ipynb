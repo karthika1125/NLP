{
 "cells": [
  {
   "cell_type": "code",
   "execution_count": 30,
   "id": "b4491997-5573-4835-8ffc-69037605116c",
   "metadata": {},
   "outputs": [],
   "source": [
    "from nltk.stem import WordNetLemmatizer\n",
    "from nltk.corpus import wordnet\n",
    "import nltk"
   ]
  },
  {
   "cell_type": "code",
   "execution_count": 24,
   "id": "1519db93-3036-4440-94c5-28c6088c318e",
   "metadata": {},
   "outputs": [
    {
     "name": "stderr",
     "output_type": "stream",
     "text": [
      "[nltk_data] Error loading Wordnet: Package 'Wordnet' not found in\n",
      "[nltk_data]     index\n"
     ]
    },
    {
     "data": {
      "text/plain": [
       "False"
      ]
     },
     "execution_count": 24,
     "metadata": {},
     "output_type": "execute_result"
    }
   ],
   "source": [
    "nltk.download('Wordnet')"
   ]
  },
  {
   "cell_type": "code",
   "execution_count": 26,
   "id": "4c54609e-68d8-4e88-a950-3c313deb4be5",
   "metadata": {},
   "outputs": [
    {
     "name": "stdout",
     "output_type": "stream",
     "text": [
      "run\n",
      "car\n"
     ]
    }
   ],
   "source": [
    "lemmatizer=WordNetLemmatizer() \n",
    "\n",
    "print(lemmatizer.lemmatize(\"running\", pos=\"v\"))  \n",
    "print(lemmatizer.lemmatize(\"cars\", pos=\"n\"))     "
   ]
  },
  {
   "cell_type": "code",
   "execution_count": null,
   "id": "141869b0-5cf9-40a8-8763-33a4c84ca932",
   "metadata": {},
   "outputs": [],
   "source": []
  },
  {
   "cell_type": "code",
   "execution_count": null,
   "id": "909dc790-5b52-4e16-8e9e-f30979f6c26b",
   "metadata": {},
   "outputs": [],
   "source": []
  }
 ],
 "metadata": {
  "kernelspec": {
   "display_name": "Python [conda env:base] *",
   "language": "python",
   "name": "conda-base-py"
  },
  "language_info": {
   "codemirror_mode": {
    "name": "ipython",
    "version": 3
   },
   "file_extension": ".py",
   "mimetype": "text/x-python",
   "name": "python",
   "nbconvert_exporter": "python",
   "pygments_lexer": "ipython3",
   "version": "3.12.7"
  }
 },
 "nbformat": 4,
 "nbformat_minor": 5
}
